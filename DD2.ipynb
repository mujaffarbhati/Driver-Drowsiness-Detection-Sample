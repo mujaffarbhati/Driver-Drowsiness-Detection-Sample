{
 "cells": [
  {
   "cell_type": "code",
   "execution_count": 29,
   "id": "a1143cd9",
   "metadata": {},
   "outputs": [],
   "source": [
    "# Importing Libraries\n",
    "# Sequential is a fully connected layer - doesn't skips any layer from input to output\n",
    "from tensorflow.keras.models import Sequential\n",
    "\n",
    "# Dense Layers are hidden layers, Dropout - To avoid overfitting, neurons are ignored or dropped at random.\n",
    "# Activation - Used to introdue non-linearity in the model, Flatten - Converts layer's output to 1D and is compulsory to add before Dense Layer\n",
    "from tensorflow.keras.layers import Dense, Dropout, Activation, Flatten\n",
    "\n",
    "# Convulation - Used for adding convulations, MaxPooling - Gets the max value from the array \n",
    "from tensorflow.keras.layers import Conv2D, MaxPooling2D\n",
    "from tensorflow.keras.callbacks import TensorBoard\n",
    "import pickle\n",
    "import time\n",
    "import numpy as np"
   ]
  },
  {
   "cell_type": "code",
   "execution_count": 30,
   "id": "2bdd2994",
   "metadata": {},
   "outputs": [],
   "source": [
    "pickle_in = open(\"X.pickle\",\"rb\")\n",
    "X = pickle.load(pickle_in)\n",
    "pickle_in = open(\"y.pickle\",\"rb\")\n",
    "y = pickle.load(pickle_in)"
   ]
  },
  {
   "cell_type": "code",
   "execution_count": 31,
   "id": "cbc41b57",
   "metadata": {},
   "outputs": [],
   "source": [
    "# Scaling the pixel values between 0 and 1 by dividing it with the max value which is 255\n",
    "X = X/255.0"
   ]
  },
  {
   "cell_type": "code",
   "execution_count": 69,
   "id": "8518164b",
   "metadata": {},
   "outputs": [],
   "source": [
    "# Creating a sequential model\n",
    "model = Sequential()\n",
    "\n",
    "model.add(Conv2D(8, (2, 2), input_shape=X.shape[1:]))\n",
    "model.add(Activation('relu'))\n",
    "model.add(MaxPooling2D(pool_size=(2, 2)))\n",
    "\n",
    "# model.add(Conv2D(64, (3, 3)))\n",
    "# model.add(Activation('relu'))\n",
    "# model.add(MaxPooling2D(pool_size=(2, 2)))\n",
    "\n",
    "\n",
    "model.add(Flatten())  # this converts our 3D feature maps to 1D feature vectors\n",
    "model.add(Dense(8))\n",
    "model.add(Activation('relu'))\n",
    "\n",
    "model.add(Dense(1)) #Output layer , Sigmoid activation\n",
    "model.add(Activation('sigmoid'))\n",
    "\n",
    "model.compile(loss='binary_crossentropy',\n",
    "              optimizer='adam',\n",
    "              metrics=['accuracy'])\n",
    "y = np.array(y)"
   ]
  },
  {
   "cell_type": "code",
   "execution_count": 70,
   "id": "0ba10fc9",
   "metadata": {},
   "outputs": [
    {
     "name": "stdout",
     "output_type": "stream",
     "text": [
      "Epoch 1/10\n",
      "200/200 [==============================] - 2s 7ms/step - loss: 0.5322 - accuracy: 0.7594 - val_loss: 0.4075 - val_accuracy: 0.8650\n",
      "Epoch 2/10\n",
      "200/200 [==============================] - 1s 6ms/step - loss: 0.3608 - accuracy: 0.9459 - val_loss: 0.3165 - val_accuracy: 0.9663\n",
      "Epoch 3/10\n",
      "200/200 [==============================] - 1s 6ms/step - loss: 0.2960 - accuracy: 0.9700 - val_loss: 0.2677 - val_accuracy: 0.9800\n",
      "Epoch 4/10\n",
      "200/200 [==============================] - 1s 6ms/step - loss: 0.2537 - accuracy: 0.9778 - val_loss: 0.2330 - val_accuracy: 0.9837\n",
      "Epoch 5/10\n",
      "200/200 [==============================] - 1s 6ms/step - loss: 0.2180 - accuracy: 0.9809 - val_loss: 0.2015 - val_accuracy: 0.9875\n",
      "Epoch 6/10\n",
      "200/200 [==============================] - 1s 6ms/step - loss: 0.1942 - accuracy: 0.9816 - val_loss: 0.1787 - val_accuracy: 0.9912\n",
      "Epoch 7/10\n",
      "200/200 [==============================] - 1s 6ms/step - loss: 0.1688 - accuracy: 0.9866 - val_loss: 0.1625 - val_accuracy: 0.9837\n",
      "Epoch 8/10\n",
      "200/200 [==============================] - 1s 6ms/step - loss: 0.1521 - accuracy: 0.9884 - val_loss: 0.1423 - val_accuracy: 0.9925\n",
      "Epoch 9/10\n",
      "200/200 [==============================] - 1s 6ms/step - loss: 0.1306 - accuracy: 0.9916 - val_loss: 0.1271 - val_accuracy: 0.9925\n",
      "Epoch 10/10\n",
      "200/200 [==============================] - 1s 6ms/step - loss: 0.1163 - accuracy: 0.9931 - val_loss: 0.1148 - val_accuracy: 0.9912\n"
     ]
    }
   ],
   "source": [
    "history = model.fit(X, y, batch_size=16, epochs=10, validation_split=0.2)"
   ]
  },
  {
   "cell_type": "code",
   "execution_count": 72,
   "id": "f6b82d9f",
   "metadata": {},
   "outputs": [
    {
     "data": {
      "image/png": "[encoded data removed]",
      "text/plain": [
       "<Figure size 432x288 with 1 Axes>"
      ]
     },
     "metadata": {
      "needs_background": "light"
     },
     "output_type": "display_data"
    },
    {
     "data": {
      "image/png": "[encoded data removed]",
      "text/plain": [
       "<Figure size 432x288 with 1 Axes>"
      ]
     },
     "metadata": {
      "needs_background": "light"
     },
     "output_type": "display_data"
    }
   ],
   "source": [
    "# Used for creating Graph\n",
    "import matplotlib.pyplot as plt\n",
    "\n",
    "plt.plot(history.history['val_accuracy'])\n",
    "plt.title('Validation Accuracy')\n",
    "plt.xlabel('Epoch')\n",
    "plt.ylabel('Accuracy')\n",
    "plt.legend(['Validation'], loc='upper left')\n",
    "plt.show()\n",
    "\n",
    "# Plot validation loss\n",
    "plt.plot(history.history['val_loss'])\n",
    "plt.title('Validation Loss')\n",
    "plt.xlabel('Epoch')\n",
    "plt.ylabel('Loss')\n",
    "plt.legend(['Validation'], loc='upper left')\n",
    "plt.show()"
   ]
  },
  {
   "cell_type": "code",
   "execution_count": 73,
   "id": "baf991d8",
   "metadata": {},
   "outputs": [
    {
     "name": "stderr",
     "output_type": "stream",
     "text": [
      "WARNING:absl:Found untraced functions such as _jit_compiled_convolution_op while saving (showing 1 of 1). These functions will not be directly callable after loading.\n"
     ]
    },
    {
     "name": "stdout",
     "output_type": "stream",
     "text": [
      "INFO:tensorflow:Assets written to: open-close-eyes\\assets\n"
     ]
    },
    {
     "name": "stderr",
     "output_type": "stream",
     "text": [
      "INFO:tensorflow:Assets written to: open-close-eyes\\assets\n"
     ]
    }
   ],
   "source": [
    "# Create a pickle of the model using tensorflow\n",
    "model.save(\"open-close-eyes\")"
   ]
  },
  {
   "cell_type": "code",
   "execution_count": 4,
   "id": "beee4e01",
   "metadata": {},
   "outputs": [
    {
     "name": "stdout",
     "output_type": "stream",
     "text": [
      "1/1 [==============================] - 0s 62ms/step\n",
      "[[1.]]\n",
      "Driver is Awake\n"
     ]
    }
   ],
   "source": [
    "import cv2\n",
    "import tensorflow as tf\n",
    "\n",
    "CATEGORIES = [\"Driver is Sleeping\",\"Driver is Awake\"]\n",
    "\n",
    "\n",
    "def prepare(filepath):\n",
    "    IMG_SIZE = 50  # 50 in txt-based\n",
    "    img_array = cv2.imread(filepath, cv2.IMREAD_GRAYSCALE)\n",
    "    new_array = cv2.resize(img_array, (IMG_SIZE, IMG_SIZE))\n",
    "    return new_array.reshape(-1, IMG_SIZE, IMG_SIZE, 1)\n",
    "\n",
    "\n",
    "model = tf.keras.models.load_model(\"open-close-eyes\")\n",
    "\n",
    "prediction = model.predict([prepare(\"hello5.jpeg\")]) # choose the pic you want to detect the gender of\n",
    "print(prediction)  # will be a list in a list.\n",
    "print(CATEGORIES[int(prediction[0][0])])"
   ]
  },
  {
   "cell_type": "code",
   "execution_count": null,
   "id": "09c61109",
   "metadata": {},
   "outputs": [],
   "source": []
  }
 ],
 "metadata": {
  "kernelspec": {
   "display_name": "Python 3 (ipykernel)",
   "language": "python",
   "name": "python3"
  },
  "language_info": {
   "codemirror_mode": {
    "name": "ipython",
    "version": 3
   },
   "file_extension": ".py",
   "mimetype": "text/x-python",
   "name": "python",
   "nbconvert_exporter": "python",
   "pygments_lexer": "ipython3",
   "version": "3.10.11"
  }
 },
 "nbformat": 4,
 "nbformat_minor": 5
}
